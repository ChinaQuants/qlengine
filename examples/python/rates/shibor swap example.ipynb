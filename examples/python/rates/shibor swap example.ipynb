{
 "cells": [
  {
   "cell_type": "markdown",
   "metadata": {},
   "source": [
    "# 中国 Shibor 3M 利率互换定盘曲线\n",
    "-------------"
   ]
  },
  {
   "cell_type": "code",
   "execution_count": null,
   "metadata": {
    "collapsed": true
   },
   "outputs": [],
   "source": [
    "%matplotlib inline\n",
    "from matplotlib import pyplot as plt\n",
    "import datetime as dt\n",
    "from QuantLib import *\n",
    "plt.style.use('fivethirtyeight')"
   ]
  },
  {
   "cell_type": "markdown",
   "metadata": {},
   "source": [
    "## 市场数据\n",
    "-------------------\n",
    "\n",
    "我们使用2017年6月30公布的利率互换定盘数据：\n",
    "\n",
    "| 标准期限 | 报买(%) | 均值(%) | 报卖(%) |  |\n",
    "|----------|---------|---------|---------|---|\n",
    "| 6M | 4.4696 | 4.5128 | 4.5560 |  |\n",
    "| 9M | 4.4100 | 4.4413 | 4.4725 |  |\n",
    "| 1Y | 4.4100 | 4.4288 | 4.4475 |  |\n",
    "| 2Y | 4.3900 | 4.4000 | 4.4100 |  |\n",
    "| 3Y | 4.3900 | 4.4125 | 4.4350 |  |\n",
    "| 4Y | 4.4050 | 4.4263 | 4.4475 |  |\n",
    "| 5Y | 4.4100 | 4.4350 | 4.4600 |  |\n",
    "| 7Y | 4.3954 | 4.4840 | 4.5725 |  |\n",
    "| 10Y | 4.4863 | 4.5915 | 4.6967 |  |"
   ]
  },
  {
   "cell_type": "code",
   "execution_count": null,
   "metadata": {
    "collapsed": true
   },
   "outputs": [],
   "source": [
    "bid_rates = [0.044696, 0.0441, 0.0441, 0.0439, 0.0439, 0.04405, 0.0441, 0.043954, 0.044863]\n",
    "mid_rates = [0.045128, 0.044413, 0.044288, 0.044, 0.044125, 0.044263, 0.04435, 0.04484, 0.045915]\n",
    "offer_rates = [0.04556, 0.044725, 0.044475, 0.0441, 0.04435, 0.044475, 0.0446, 0.045725, 0.046967]\n",
    "\n",
    "tenors = [Period('6m'), Period('9m'), Period('1Y'), Period('2Y'), Period('3Y'), Period('4Y'), Period('5Y'), Period('7y'), Period('10y')]"
   ]
  },
  {
   "cell_type": "markdown",
   "metadata": {},
   "source": [
    "## 构造收益率曲线\n",
    "---------------------------"
   ]
  },
  {
   "cell_type": "code",
   "execution_count": null,
   "metadata": {
    "collapsed": true
   },
   "outputs": [],
   "source": [
    "bid_quotes = [QuoteHandle(SimpleQuote(r)) for r in bid_rates]\n",
    "mid_quotes = [QuoteHandle(SimpleQuote(r)) for r in mid_rates]\n",
    "offer_quotes = [QuoteHandle(SimpleQuote(r)) for r in offer_rates]\n",
    "\n",
    "shibor_index = Shibor(Period(3, Months))"
   ]
  },
  {
   "cell_type": "code",
   "execution_count": null,
   "metadata": {
    "collapsed": true
   },
   "outputs": [],
   "source": [
    "bid_instruments = [ShiborSwapRateHelper(r, t, 3 * Months, shibor_index) for r, t in zip(bid_quotes, tenors)]\n",
    "mid_instruments = [ShiborSwapRateHelper(r, t, 3 * Months, shibor_index) for r, t in zip(mid_quotes, tenors)]\n",
    "offer_instruments = [ShiborSwapRateHelper(r, t, 3 * Months, shibor_index) for r, t in zip(offer_quotes, tenors)]"
   ]
  },
  {
   "cell_type": "code",
   "execution_count": null,
   "metadata": {
    "collapsed": true
   },
   "outputs": [],
   "source": [
    "calendar = China(China.IB)\n",
    "today = calendar.adjust(Date.todaysDate())\n",
    "\n",
    "Settings.instance().evaluationDate = today"
   ]
  },
  {
   "cell_type": "code",
   "execution_count": null,
   "metadata": {},
   "outputs": [],
   "source": [
    "bid_curve = PiecewiseLinearZero(today, bid_instruments, Actual365Fixed())\n",
    "mid_curve = PiecewiseLinearZero(today, mid_instruments, Actual365Fixed())\n",
    "offer_curve = PiecewiseLinearZero(today, offer_instruments, Actual365Fixed())"
   ]
  },
  {
   "cell_type": "markdown",
   "metadata": {},
   "source": [
    "## 获取收益率曲线数据\n",
    "-----------------------"
   ]
  },
  {
   "cell_type": "code",
   "execution_count": null,
   "metadata": {},
   "outputs": [],
   "source": [
    "%%time\n",
    "pillars = [today + i for i in range(3660)]\n",
    "\n",
    "bid_zero_rates = [bid_curve.zeroRate(d, Actual360(), Continuous, Annual, True).rate() * 100. for d in pillars]\n",
    "mid_zero_rates = [mid_curve.zeroRate(d, Actual360(), Continuous, Annual, True).rate() * 100. for d in pillars]\n",
    "offer_zero_rates = [offer_curve.zeroRate(d, Actual360(), Continuous, Annual, True).rate() * 100. for d in pillars]\n",
    "\n",
    "py_dates = [dt.datetime(d.year(), d.month(), d.dayOfMonth()) for d in pillars]"
   ]
  },
  {
   "cell_type": "code",
   "execution_count": null,
   "metadata": {},
   "outputs": [],
   "source": [
    "plt.figure(figsize=(12, 6))\n",
    "plt.title(\"Chinese Shibor/3M Swap Zero Rate curve\", fontsize=16)\n",
    "plt.plot(py_dates, bid_zero_rates)\n",
    "plt.plot(py_dates, mid_zero_rates)\n",
    "plt.plot(py_dates, offer_zero_rates)\n",
    "plt.legend(['bid', 'mid', 'offer'])"
   ]
  },
  {
   "cell_type": "code",
   "execution_count": null,
   "metadata": {},
   "outputs": [],
   "source": [
    "%%time\n",
    "bid_df = [bid_curve.discount(d, True) for d in pillars]\n",
    "mid_df = [mid_curve.discount(d, True) for d in pillars]\n",
    "offer_df = [offer_curve.discount(d, True) for d in pillars]"
   ]
  },
  {
   "cell_type": "code",
   "execution_count": null,
   "metadata": {},
   "outputs": [],
   "source": [
    "plt.figure(figsize=(12, 6))\n",
    "plt.title(\"Chinese Shibor/3M Swap Discout Factor curve\", fontsize=16)\n",
    "plt.plot(py_dates, bid_df)\n",
    "plt.plot(py_dates, mid_df)\n",
    "plt.plot(py_dates, offer_df)\n",
    "plt.legend(['bid', 'mid', 'offer'])"
   ]
  },
  {
   "cell_type": "code",
   "execution_count": null,
   "metadata": {},
   "outputs": [],
   "source": [
    "%%time\n",
    "bid_forward = [bid_curve.forwardRate(d, d, Actual360(), Continuous, Annual, True).rate() * 100. for d in pillars]\n",
    "mid_forward = [mid_curve.forwardRate(d, d, Actual360(), Continuous, Annual, True).rate() * 100. for d in pillars]\n",
    "offer_forward = [offer_curve.forwardRate(d, d, Actual360(), Continuous, Annual, True).rate() * 100. for d in pillars]"
   ]
  },
  {
   "cell_type": "code",
   "execution_count": null,
   "metadata": {},
   "outputs": [],
   "source": [
    "plt.figure(figsize=(12, 6))\n",
    "plt.title(\"Chinese Shibor/3M Swap Forward Rate curve\", fontsize=16)\n",
    "plt.plot(py_dates, bid_forward)\n",
    "plt.plot(py_dates, mid_forward)\n",
    "plt.plot(py_dates, offer_forward)\n",
    "plt.legend(['bid', 'mid', 'offer'])"
   ]
  },
  {
   "cell_type": "code",
   "execution_count": null,
   "metadata": {
    "collapsed": true
   },
   "outputs": [],
   "source": []
  },
  {
   "cell_type": "code",
   "execution_count": null,
   "metadata": {
    "collapsed": true
   },
   "outputs": [],
   "source": []
  },
  {
   "cell_type": "code",
   "execution_count": null,
   "metadata": {
    "collapsed": true
   },
   "outputs": [],
   "source": []
  },
  {
   "cell_type": "code",
   "execution_count": null,
   "metadata": {
    "collapsed": true
   },
   "outputs": [],
   "source": []
  },
  {
   "cell_type": "code",
   "execution_count": null,
   "metadata": {
    "collapsed": true
   },
   "outputs": [],
   "source": []
  }
 ],
 "metadata": {
  "kernelspec": {
   "display_name": "Python 3",
   "language": "python",
   "name": "python3"
  },
  "language_info": {
   "codemirror_mode": {
    "name": "ipython",
    "version": 3
   },
   "file_extension": ".py",
   "mimetype": "text/x-python",
   "name": "python",
   "nbconvert_exporter": "python",
   "pygments_lexer": "ipython3",
   "version": "3.6.3"
  }
 },
 "nbformat": 4,
 "nbformat_minor": 2
}
