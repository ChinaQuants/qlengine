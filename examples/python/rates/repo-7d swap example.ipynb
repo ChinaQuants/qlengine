{
 "cells": [
  {
   "cell_type": "code",
   "execution_count": null,
   "metadata": {
    "collapsed": true
   },
   "outputs": [],
   "source": [
    "%matplotlib inline\n",
    "import datetime as dt\n",
    "import pandas as pd\n",
    "from QuantLib import *\n",
    "import matplotlib.pyplot as plt\n",
    "plt.style.use('fivethirtyeight')"
   ]
  },
  {
   "cell_type": "markdown",
   "metadata": {},
   "source": [
    "## 市场数据\n",
    "---------------------"
   ]
  },
  {
   "cell_type": "code",
   "execution_count": null,
   "metadata": {
    "collapsed": true
   },
   "outputs": [],
   "source": [
    "rs = [0.034625, 0.0342, 0.0343,  0.03445, 0.03525, 0.0365, 0.0366, 0.037725, 0.03835, 0.03835]\n",
    "tenors = [Period(3, Months), Period(6, Months), Period(9, Months), Period(1, Years), Period(2, Years), \n",
    "          Period(3, Years), Period(4, Years), Period(5, Years), Period(7, Years), Period(10, Years)]"
   ]
  },
  {
   "cell_type": "code",
   "execution_count": null,
   "metadata": {
    "collapsed": true
   },
   "outputs": [],
   "source": [
    "quotes = [QuoteHandle(SimpleQuote(r)) for r in rs]"
   ]
  },
  {
   "cell_type": "markdown",
   "metadata": {
    "collapsed": true
   },
   "source": [
    "## 构造收益率曲线\n",
    "---------------------------"
   ]
  },
  {
   "cell_type": "code",
   "execution_count": null,
   "metadata": {
    "collapsed": true
   },
   "outputs": [],
   "source": [
    "fixedFreq = Quarterly\n",
    "fixedCalendar = China(China.IB)\n",
    "fixedDayCount = Actual365Fixed()\n",
    "fixedConvention = ModifiedFollowing\n",
    "floatPayTenor = Period(3, Months)\n",
    "floatingDayCount = Actual365Fixed()\n",
    "rule = DateGeneration.Backward\n",
    "\n",
    "iborIndex = Repo(Period(7, Days))\n",
    "today = fixedCalendar.adjust(Date.todaysDate())\n",
    "Settings.instance().evaluationDate = today"
   ]
  },
  {
   "cell_type": "code",
   "execution_count": null,
   "metadata": {
    "collapsed": true
   },
   "outputs": [],
   "source": [
    "instruments = [SubPeriodsSwapRateHelper(r, t, fixedFreq, fixedCalendar,\n",
    "                                        fixedDayCount, fixedConvention,\n",
    "                                        floatPayTenor, iborIndex, floatingDayCount,\n",
    "                                       rule) for r, t in zip(quotes, tenors)]"
   ]
  },
  {
   "cell_type": "code",
   "execution_count": null,
   "metadata": {
    "collapsed": true
   },
   "outputs": [],
   "source": [
    "curve = PiecewiseLinearZero(today, instruments, Actual365Fixed())"
   ]
  },
  {
   "cell_type": "markdown",
   "metadata": {},
   "source": [
    "## 获取收益率曲线数据\n",
    "-----------------------"
   ]
  },
  {
   "cell_type": "code",
   "execution_count": null,
   "metadata": {},
   "outputs": [],
   "source": [
    "pillars = [today + t for t in tenors]\n",
    "py_dates = [dt.datetime(d.year(), d.month(), d.dayOfMonth()) for d in pillars]\n",
    "zero_rates = [curve.zeroRate(d, Actual365Fixed(), Continuous).rate() for d in pillars]"
   ]
  },
  {
   "cell_type": "code",
   "execution_count": null,
   "metadata": {},
   "outputs": [],
   "source": [
    "plt.figure(figsize=(12, 6))\n",
    "plt.title(\"Chinese Repo-7d/3M Swap Zero Rate curve\", fontsize=16)\n",
    "plt.plot(py_dates, zero_rates)\n",
    "plt.legend(['zero_rate'])"
   ]
  },
  {
   "cell_type": "code",
   "execution_count": null,
   "metadata": {
    "collapsed": true
   },
   "outputs": [],
   "source": []
  }
 ],
 "metadata": {
  "kernelspec": {
   "display_name": "Python 3",
   "language": "python",
   "name": "python3"
  },
  "language_info": {
   "codemirror_mode": {
    "name": "ipython",
    "version": 3
   },
   "file_extension": ".py",
   "mimetype": "text/x-python",
   "name": "python",
   "nbconvert_exporter": "python",
   "pygments_lexer": "ipython3",
   "version": "3.6.2"
  }
 },
 "nbformat": 4,
 "nbformat_minor": 2
}
