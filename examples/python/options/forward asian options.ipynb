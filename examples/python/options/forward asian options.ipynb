{
 "cells": [
  {
   "cell_type": "code",
   "execution_count": 1,
   "metadata": {},
   "outputs": [],
   "source": [
    "%matplotlib inline\n",
    "import numpy as np\n",
    "import pandas as pd\n",
    "from matplotlib import pyplot as plt\n",
    "from QuantLib import *\n",
    "\n",
    "plt.style.use('fivethirtyeight')"
   ]
  },
  {
   "cell_type": "code",
   "execution_count": 17,
   "metadata": {},
   "outputs": [],
   "source": [
    "start_date = Date(20, 4, 2018)\n",
    "maturity_date = Date(20, 7, 2018)\n",
    "freq = Period(1, Days)\n",
    "option_type = Option.Put\n",
    "strike_price = 1.\n",
    "spot_price = 1.\n",
    "\n",
    "risk_free_rate = 0.035\n",
    "dividend_rate = 0.035\n",
    "day_count = Actual365Fixed()\n",
    "calendar = China(China.SSE)\n",
    "\n",
    "payoff = PlainVanillaPayoff(option_type, strike_price)\n",
    "\n",
    "calculation_date = start_date\n",
    "Settings.instance().evaluationDate = calculation_date\n",
    "\n",
    "spot_handle = RelinkableQuoteHandle(SimpleQuote(spot_price))\n",
    "flat_ts = YieldTermStructureHandle(FlatForward(calculation_date, risk_free_rate, day_count))\n",
    "dividend_yield = YieldTermStructureHandle(FlatForward(calculation_date, dividend_rate, day_count))\n",
    "flat_vol_ts = RelinkableBlackVolTermStructureHandle(BlackConstantVol(calculation_date, calendar, 0.2, day_count))"
   ]
  },
  {
   "cell_type": "code",
   "execution_count": 18,
   "metadata": {},
   "outputs": [],
   "source": [
    "maturities = [Date(21, 5, 2018), Date(20, 6, 2018), Date(20, 7, 2018)]\n",
    "fixing_start_dates = [Date(20, 4, 2018), Date(21, 5, 2018), Date(20, 6, 2018)]\n",
    "vols = [0.33, 0.34, 0.35]"
   ]
  },
  {
   "cell_type": "markdown",
   "metadata": {},
   "source": [
    "## Forward Asian Options Groups\n",
    "-------------------------"
   ]
  },
  {
   "cell_type": "code",
   "execution_count": 33,
   "metadata": {},
   "outputs": [
    {
     "name": "stdout",
     "output_type": "stream",
     "text": [
      "Forward Asian Option evaluated at 2018-04-20\n",
      "\n",
      "2018-04-20 - 2018-05-21, PV: 0.0225;  Δ: -0.4899\n",
      "2018-05-21 - 2018-06-20, PV: 0.0445;  Δ: -0.4752\n",
      "2018-06-20 - 2018-07-20, PV: 0.0610;  Δ: -0.4654\n"
     ]
    }
   ],
   "source": [
    "print(f\"Forward Asian Option evaluated at {calculation_date.ISO()}\\n\")\n",
    "\n",
    "prices = []\n",
    "\n",
    "for fix_start, maturity, vol in zip(fixing_start_dates, maturities, vols):\n",
    "    fixing_scheduler = Schedule(fix_start, maturity, freq, calendar, Following, Following, DateGeneration.Backward, False)\n",
    "    fixing_dates = [d for d in fixing_scheduler]\n",
    "    flat_vol_ts.linkTo(BlackConstantVol(calculation_date, calendar, vol, day_count))\n",
    "    \n",
    "    bsm_process = BlackScholesMertonProcess(spot_handle, dividend_yield, flat_ts, flat_vol_ts)\n",
    "    exercise = EuropeanExercise(maturity)\n",
    "    option = DiscreteAveragingAsianOption(Average.Arithmetic, 0., 0, fixing_dates, payoff, exercise)\n",
    "    engine = FdBlackScholesAsianEngine(bsm_process, 200, 100, 100)\n",
    "    option.setPricingEngine(engine)\n",
    "    price = option.NPV()\n",
    "    delta = option.delta()\n",
    "    print(f\"{fix_start.ISO()} - {maturity.ISO()}, PV: {price:.4f};  Δ: {delta:.4f}\")\n",
    "    prices.append(price)"
   ]
  },
  {
   "cell_type": "code",
   "execution_count": 34,
   "metadata": {},
   "outputs": [
    {
     "data": {
      "text/plain": [
       "[0.02251000579243813, 0.04453160690826882, 0.060978203833682854]"
      ]
     },
     "execution_count": 34,
     "metadata": {},
     "output_type": "execute_result"
    }
   ],
   "source": [
    "prices"
   ]
  },
  {
   "cell_type": "code",
   "execution_count": 42,
   "metadata": {},
   "outputs": [
    {
     "data": {
      "text/html": [
       "<div>\n",
       "<style scoped>\n",
       "    .dataframe tbody tr th:only-of-type {\n",
       "        vertical-align: middle;\n",
       "    }\n",
       "\n",
       "    .dataframe tbody tr th {\n",
       "        vertical-align: top;\n",
       "    }\n",
       "\n",
       "    .dataframe thead th {\n",
       "        text-align: right;\n",
       "    }\n",
       "</style>\n",
       "<table border=\"1\" class=\"dataframe\">\n",
       "  <thead>\n",
       "    <tr style=\"text-align: right;\">\n",
       "      <th></th>\n",
       "      <th>计算日</th>\n",
       "      <th>均价起始</th>\n",
       "      <th>结算日</th>\n",
       "      <th>执行价格</th>\n",
       "      <th>期权单价</th>\n",
       "    </tr>\n",
       "  </thead>\n",
       "  <tbody>\n",
       "    <tr>\n",
       "      <th>0</th>\n",
       "      <td>2018-04-20</td>\n",
       "      <td>2018-04-20</td>\n",
       "      <td>2018-05-21</td>\n",
       "      <td>16000</td>\n",
       "      <td>360.160093</td>\n",
       "    </tr>\n",
       "    <tr>\n",
       "      <th>1</th>\n",
       "      <td>2018-04-20</td>\n",
       "      <td>2018-05-21</td>\n",
       "      <td>2018-06-20</td>\n",
       "      <td>16000</td>\n",
       "      <td>712.505711</td>\n",
       "    </tr>\n",
       "    <tr>\n",
       "      <th>2</th>\n",
       "      <td>2018-04-20</td>\n",
       "      <td>2018-06-20</td>\n",
       "      <td>2018-07-20</td>\n",
       "      <td>16000</td>\n",
       "      <td>975.651261</td>\n",
       "    </tr>\n",
       "  </tbody>\n",
       "</table>\n",
       "</div>"
      ],
      "text/plain": [
       "          计算日        均价起始         结算日   执行价格        期权单价\n",
       "0  2018-04-20  2018-04-20  2018-05-21  16000  360.160093\n",
       "1  2018-04-20  2018-05-21  2018-06-20  16000  712.505711\n",
       "2  2018-04-20  2018-06-20  2018-07-20  16000  975.651261"
      ]
     },
     "execution_count": 42,
     "metadata": {},
     "output_type": "execute_result"
    }
   ],
   "source": [
    "df = pd.DataFrame({'结算日': [d.ISO() for d in maturities],\n",
    "                   '均价起始': [d.ISO() for d in fixing_start_dates],\n",
    "                   '计算日': [calculation_date.ISO()] * len(maturities)})\n",
    "df['执行价格'] = 16000\n",
    "df['期权单价'] = df['执行价格'] * np.array(prices)\n",
    "df[['计算日', '均价起始', '结算日', '执行价格', '期权单价']]"
   ]
  },
  {
   "cell_type": "code",
   "execution_count": null,
   "metadata": {},
   "outputs": [],
   "source": []
  }
 ],
 "metadata": {
  "kernelspec": {
   "display_name": "Python 3",
   "language": "python",
   "name": "python3"
  },
  "varInspector": {
   "cols": {
    "lenName": 16,
    "lenType": 16,
    "lenVar": 40
   },
   "kernels_config": {
    "python": {
     "delete_cmd_postfix": "",
     "delete_cmd_prefix": "del ",
     "library": "var_list.py",
     "varRefreshCmd": "print(var_dic_list())"
    },
    "r": {
     "delete_cmd_postfix": ") ",
     "delete_cmd_prefix": "rm(",
     "library": "var_list.r",
     "varRefreshCmd": "cat(var_dic_list()) "
    }
   },
   "types_to_exclude": [
    "module",
    "function",
    "builtin_function_or_method",
    "instance",
    "_Feature"
   ],
   "window_display": false
  }
 },
 "nbformat": 4,
 "nbformat_minor": 2
}
