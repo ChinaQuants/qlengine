{
 "cells": [
  {
   "cell_type": "code",
   "execution_count": 97,
   "metadata": {},
   "outputs": [],
   "source": [
    "from uqer import Client\n",
    "from uqer import DataAPI as api\n",
    "from QuantLib import *"
   ]
  },
  {
   "cell_type": "code",
   "execution_count": 98,
   "metadata": {},
   "outputs": [
    {
     "name": "stdout",
     "output_type": "stream",
     "text": [
      "16937@wmcloud.com 账号登录成功\n"
     ]
    }
   ],
   "source": [
    "_ = Client(token='f1b9bea1d0b4e489c5ab9b69c3e2326a1bee6057af858067dbd1546453f428b2')"
   ]
  },
  {
   "cell_type": "code",
   "execution_count": 99,
   "metadata": {},
   "outputs": [],
   "source": [
    "maturity_date = Date(15, 9, 2018)\n",
    "start_date = Date(15, 3, 2018)\n",
    "\n",
    "spot = 1.\n",
    "\n",
    "risk_free = 0.035\n",
    "dividend_rate = 0.0\n",
    "volatility = 0.50\n",
    "day_count = Actual365Fixed()\n",
    "calendar = China(China.SSE)"
   ]
  },
  {
   "cell_type": "markdown",
   "metadata": {},
   "source": [
    "## Market Data\n",
    "-------------------"
   ]
  },
  {
   "cell_type": "code",
   "execution_count": 100,
   "metadata": {},
   "outputs": [],
   "source": [
    "calculation_date = start_date\n",
    "Settings.instance().evaluationDate = calculation_date\n",
    "\n",
    "spot_handle = RelinkableQuoteHandle(SimpleQuote(spot))\n",
    "vol_handle =  RelinkableQuoteHandle(SimpleQuote(volatility))\n",
    "\n",
    "flat_ts = YieldTermStructureHandle(FlatForward(calculation_date, risk_free, day_count))\n",
    "dividend_yield = YieldTermStructureHandle(FlatForward(calculation_date, dividend_rate, day_count))\n",
    "flat_vol_ts = BlackVolTermStructureHandle(BlackConstantVol(calculation_date, calendar, vol_handle, day_count))\n",
    "\n",
    "bsm_process = BlackScholesMertonProcess(spot_handle, dividend_yield, flat_ts, flat_vol_ts)"
   ]
  },
  {
   "cell_type": "markdown",
   "metadata": {},
   "source": [
    "## Analytic Digital Option\n",
    "-----------------------"
   ]
  },
  {
   "cell_type": "markdown",
   "metadata": {},
   "source": [
    "### 1. 参数\n",
    "-------------"
   ]
  },
  {
   "cell_type": "code",
   "execution_count": 101,
   "metadata": {},
   "outputs": [],
   "source": [
    "strike = 1.1 * spot\n",
    "cash_pay = 0.05 * spot"
   ]
  },
  {
   "cell_type": "markdown",
   "metadata": {},
   "source": [
    "### 2. 计算\n",
    "--------------"
   ]
  },
  {
   "cell_type": "code",
   "execution_count": 107,
   "metadata": {},
   "outputs": [],
   "source": [
    "payoff = CashOrNothingPayoff(Option.Call, strike, cash_pay)\n",
    "exercise = EuropeanExercise(maturity_date)\n",
    "option = EuropeanOption(payoff, exercise)"
   ]
  },
  {
   "cell_type": "code",
   "execution_count": 108,
   "metadata": {},
   "outputs": [
    {
     "name": "stdout",
     "output_type": "stream",
     "text": [
      "BSM european digital theoreticl price is 1.6995%\n",
      "BSM european digital theoreticl delta is 5.1037%\n",
      "Wall time: 1.01 ms\n"
     ]
    }
   ],
   "source": [
    "%%time\n",
    "engine = AnalyticEuropeanEngine(bsm_process)\n",
    "option.setPricingEngine(engine)\n",
    "\n",
    "bsm_price = option.NPV()\n",
    "bsm_delta = option.delta()\n",
    "print(\"BSM european digital theoreticl price is {0:.4f}%\".format(bsm_price * 100.))\n",
    "print(\"BSM european digital theoreticl delta is {0:.4f}%\".format(bsm_delta * 100.))"
   ]
  },
  {
   "cell_type": "markdown",
   "metadata": {},
   "source": [
    "## Analytic Spread Option\n",
    "--------------------------"
   ]
  },
  {
   "cell_type": "markdown",
   "metadata": {},
   "source": [
    "### 1. 参数\n",
    "------------------"
   ]
  },
  {
   "cell_type": "code",
   "execution_count": 119,
   "metadata": {},
   "outputs": [],
   "source": [
    "strike1 = 1.1 * spot\n",
    "strike2 = 1.2 * spot\n",
    "\n",
    "leverage = 0.9"
   ]
  },
  {
   "cell_type": "markdown",
   "metadata": {},
   "source": [
    "### 2. 计算\n",
    "-------------"
   ]
  },
  {
   "cell_type": "code",
   "execution_count": 120,
   "metadata": {},
   "outputs": [],
   "source": [
    "payoff = GapPayoff(Option.Call, strike1, strike2)\n",
    "exercise = EuropeanExercise(maturity_date)\n",
    "option = EuropeanOption(payoff, exercise)"
   ]
  },
  {
   "cell_type": "code",
   "execution_count": 121,
   "metadata": {},
   "outputs": [
    {
     "name": "stdout",
     "output_type": "stream",
     "text": [
      "BSM european spread theoreticl price is 6.8093%\n",
      "BSM european spread theoreticl delta is 34.3318%\n",
      "Wall time: 999 µs\n"
     ]
    }
   ],
   "source": [
    "%%time\n",
    "engine = AnalyticEuropeanEngine(bsm_process)\n",
    "option.setPricingEngine(engine)\n",
    "\n",
    "bsm_price = option.NPV() * leverage\n",
    "bsm_delta = option.delta() * leverage\n",
    "print(\"BSM european spread theoreticl price is {0:.4f}%\".format(bsm_price * 100.))\n",
    "print(\"BSM european spread theoreticl delta is {0:.4f}%\".format(bsm_delta * 100.))"
   ]
  },
  {
   "cell_type": "code",
   "execution_count": 122,
   "metadata": {},
   "outputs": [],
   "source": [
    "GapPayoff?"
   ]
  },
  {
   "cell_type": "code",
   "execution_count": null,
   "metadata": {},
   "outputs": [],
   "source": []
  },
  {
   "cell_type": "code",
   "execution_count": null,
   "metadata": {},
   "outputs": [],
   "source": []
  }
 ],
 "metadata": {
  "kernelspec": {
   "display_name": "Python 3",
   "language": "python",
   "name": "python3"
  },
  "language_info": {
   "codemirror_mode": {
    "name": "ipython",
    "version": 3
   },
   "file_extension": ".py",
   "mimetype": "text/x-python",
   "name": "python",
   "nbconvert_exporter": "python",
   "pygments_lexer": "ipython3",
   "version": "3.6.4"
  },
  "varInspector": {
   "cols": {
    "lenName": 16,
    "lenType": 16,
    "lenVar": 40
   },
   "kernels_config": {
    "python": {
     "delete_cmd_postfix": "",
     "delete_cmd_prefix": "del ",
     "library": "var_list.py",
     "varRefreshCmd": "print(var_dic_list())"
    },
    "r": {
     "delete_cmd_postfix": ") ",
     "delete_cmd_prefix": "rm(",
     "library": "var_list.r",
     "varRefreshCmd": "cat(var_dic_list()) "
    }
   },
   "types_to_exclude": [
    "module",
    "function",
    "builtin_function_or_method",
    "instance",
    "_Feature"
   ],
   "window_display": false
  }
 },
 "nbformat": 4,
 "nbformat_minor": 2
}
