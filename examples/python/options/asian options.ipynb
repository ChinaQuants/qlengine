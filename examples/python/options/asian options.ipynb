{
 "cells": [
  {
   "cell_type": "code",
   "execution_count": null,
   "metadata": {},
   "outputs": [],
   "source": [
    "%matplotlib inline\n",
    "import numpy as np\n",
    "import pandas as pd\n",
    "from matplotlib import pyplot as plt\n",
    "import uqer\n",
    "from uqer import DataAPI as api\n",
    "from QuantLib import *\n",
    "\n",
    "\n",
    "plt.style.use('fivethirtyeight')\n",
    "uqer.Client(token='f1b9bea1d0b4e489c5ab9b69c3e2326a1bee6057af858067dbd1546453f428b2')"
   ]
  },
  {
   "cell_type": "markdown",
   "metadata": {},
   "source": [
    "## 0. Market Data\n",
    "-------------------"
   ]
  },
  {
   "cell_type": "code",
   "execution_count": null,
   "metadata": {},
   "outputs": [],
   "source": [
    "ru1801 = api.MktFutdGet(ticker='RU1801', beginDate='20170825', endDate='20171130', field='tradeDate,closePrice').set_index('tradeDate')\n",
    "ru1801['closePrice'] = ru1801['closePrice'].astype(float)\n",
    "ru1801.plot(figsize=(14, 7))"
   ]
  },
  {
   "cell_type": "markdown",
   "metadata": {},
   "source": [
    "## 1. Parameters\n",
    "------------"
   ]
  },
  {
   "cell_type": "code",
   "execution_count": null,
   "metadata": {
    "collapsed": true
   },
   "outputs": [],
   "source": [
    "start_date = Date(31, 8, 2017)\n",
    "maturity_date = Date(30, 11, 2017)\n",
    "freq = Period(1, Days)\n",
    "volatility = 0.27\n",
    "option_type = Option.Put\n",
    "spot_price = ru1801.loc['2017-08-31', 'closePrice']\n",
    "strike_price = np.mean(ru1801.loc['2017-08-25': '2017-08-31', 'closePrice'])\n",
    "\n",
    "risk_free_rate = 0.\n",
    "dividend_rate = 0.\n",
    "day_count = Actual365Fixed()\n",
    "calendar = China(China.SSE)\n",
    "\n",
    "payoff = PlainVanillaPayoff(option_type, strike_price)\n",
    "exercise = EuropeanExercise(maturity_date)\n",
    "\n",
    "fixing_scheduler = Schedule(start_date, maturity_date, freq, calendar, Following, Following, DateGeneration.Backward, False)\n",
    "fixing_dates = [d for d in fixing_scheduler][1:]"
   ]
  },
  {
   "cell_type": "code",
   "execution_count": null,
   "metadata": {
    "collapsed": true
   },
   "outputs": [],
   "source": [
    "calculation_date = start_date\n",
    "Settings.instance().evaluationDate = calculation_date\n",
    "\n",
    "spot_handle = RelinkableQuoteHandle(SimpleQuote(spot_price))\n",
    "flat_ts = YieldTermStructureHandle(FlatForward(calculation_date, risk_free_rate, day_count))\n",
    "dividend_yield = YieldTermStructureHandle(FlatForward(calculation_date, dividend_rate, day_count))\n",
    "flat_vol_ts = BlackVolTermStructureHandle(BlackConstantVol(calculation_date, calendar, volatility, day_count))\n",
    "\n",
    "bsm_process = BlackScholesMertonProcess(spot_handle, dividend_yield, flat_ts, flat_vol_ts)\n",
    "\n",
    "option = DiscreteAveragingAsianOption(Average.Arithmetic, 0., 0, fixing_dates, payoff, exercise)"
   ]
  },
  {
   "cell_type": "markdown",
   "metadata": {},
   "source": [
    "## 2. FDM Arithmetic Pricing Engine\n",
    "------------"
   ]
  },
  {
   "cell_type": "code",
   "execution_count": null,
   "metadata": {
    "collapsed": true
   },
   "outputs": [],
   "source": [
    "engine = FdBlackScholesAsianEngine(bsm_process, 200, 100, 100)"
   ]
  },
  {
   "cell_type": "code",
   "execution_count": null,
   "metadata": {},
   "outputs": [],
   "source": [
    "option.setPricingEngine(engine)\n",
    "fdm_price = option.NPV()\n",
    "fdm_delta = option.delta()\n",
    "print(\"BSM ASIAN FDM price is {0:.4f}\".format(fdm_price))\n",
    "print(\"BSM ASIAN FDM delta is {0:.4f}\".format(fdm_delta))"
   ]
  },
  {
   "cell_type": "markdown",
   "metadata": {},
   "source": [
    "### 3. MC Arithmetic Pricing Engine\n",
    "------------------------"
   ]
  },
  {
   "cell_type": "code",
   "execution_count": null,
   "metadata": {
    "collapsed": true
   },
   "outputs": [],
   "source": [
    "engine = MCDiscreteArithmeticAPEngine(bsm_process,  'ld', controlVariate=True, requiredSamples=50000)"
   ]
  },
  {
   "cell_type": "code",
   "execution_count": null,
   "metadata": {},
   "outputs": [],
   "source": [
    "%%time\n",
    "option.setPricingEngine(engine)\n",
    "mc_price = option.NPV()\n",
    "\n",
    "price_delta = 0.001 * spot_price\n",
    "new_quote1 = SimpleQuote(spot_price + price_delta)\n",
    "new_quote2 = SimpleQuote(spot_price - price_delta)\n",
    "\n",
    "spot_handle.linkTo(new_quote1)\n",
    "price_bump_plus = option.NPV()\n",
    "\n",
    "spot_handle.linkTo(new_quote2)\n",
    "price_bump_minus = option.NPV()\n",
    "\n",
    "mc_delta = (price_bump_plus - price_bump_minus) / 2. / price_delta"
   ]
  },
  {
   "cell_type": "code",
   "execution_count": null,
   "metadata": {},
   "outputs": [],
   "source": [
    "print(\"BSM ASIAN MC price is {0:.4f}\".format(mc_price))\n",
    "print(\"BSM ASIAN MC delta is {0:.4f}\".format(mc_delta))"
   ]
  },
  {
   "cell_type": "markdown",
   "metadata": {},
   "source": [
    "## 3. Time Series NPV / Delta Analysis\n",
    "----------------------"
   ]
  },
  {
   "cell_type": "markdown",
   "metadata": {},
   "source": [
    "### 3.1 FDM Method"
   ]
  },
  {
   "cell_type": "code",
   "execution_count": null,
   "metadata": {},
   "outputs": [],
   "source": [
    "%%time\n",
    "\n",
    "monitor_dates = [start_date]\n",
    "fdm_npvs = [fdm_price]\n",
    "fdm_deltas = [fdm_delta]\n",
    "\n",
    "for i, date in enumerate(fixing_dates[:-1]):\n",
    "    past_fixings = i + 1\n",
    "    running_accumulator = np.sum(ru1801.loc[fixing_dates[0].ISO():date.ISO(), 'closePrice'])\n",
    "    \n",
    "    # Model settings\n",
    "    calculation_date = date\n",
    "    Settings.instance().evaluationDate = calculation_date\n",
    "\n",
    "    spot_handle = RelinkableQuoteHandle(SimpleQuote(ru1801.loc[date.ISO(), 'closePrice']))\n",
    "    flat_ts = YieldTermStructureHandle(FlatForward(calculation_date, risk_free_rate, day_count))\n",
    "    dividend_yield = YieldTermStructureHandle(FlatForward(calculation_date, dividend_rate, day_count))\n",
    "    flat_vol_ts = BlackVolTermStructureHandle(BlackConstantVol(calculation_date, calendar, volatility, day_count))\n",
    "\n",
    "    bsm_process = BlackScholesMertonProcess(spot_handle, dividend_yield, flat_ts, flat_vol_ts)\n",
    "\n",
    "    option = DiscreteAveragingAsianOption(Average.Arithmetic, running_accumulator, past_fixings, fixing_dates[i+1:], payoff, exercise)\n",
    "    engine = FdBlackScholesAsianEngine(bsm_process, 200, 100, 100)\n",
    "    option.setPricingEngine(engine)\n",
    "    \n",
    "    monitor_dates.append(date)\n",
    "    fdm_npvs.append(option.NPV())\n",
    "    fdm_deltas.append(option.delta())"
   ]
  },
  {
   "cell_type": "markdown",
   "metadata": {},
   "source": [
    "### 3.2 MC Method"
   ]
  },
  {
   "cell_type": "code",
   "execution_count": null,
   "metadata": {},
   "outputs": [],
   "source": [
    "%%time\n",
    "\n",
    "mc_npvs = [mc_price]\n",
    "mc_deltas = [mc_delta]\n",
    "\n",
    "for i, date in enumerate(fixing_dates[:-1]):\n",
    "    past_fixings = i + 1\n",
    "    running_accumulator = np.sum(ru1801.loc[fixing_dates[0].ISO():date.ISO(), 'closePrice'])\n",
    "    \n",
    "    # Model settings\n",
    "    calculation_date = date\n",
    "    Settings.instance().evaluationDate = calculation_date\n",
    "\n",
    "    spot_handle = RelinkableQuoteHandle(SimpleQuote(ru1801.loc[date.ISO(), 'closePrice']))\n",
    "    flat_ts = YieldTermStructureHandle(FlatForward(calculation_date, risk_free_rate, day_count))\n",
    "    dividend_yield = YieldTermStructureHandle(FlatForward(calculation_date, dividend_rate, day_count))\n",
    "    flat_vol_ts = BlackVolTermStructureHandle(BlackConstantVol(calculation_date, calendar, volatility, day_count))\n",
    "\n",
    "    bsm_process = BlackScholesMertonProcess(spot_handle, dividend_yield, flat_ts, flat_vol_ts)\n",
    "\n",
    "    option = DiscreteAveragingAsianOption(Average.Arithmetic, running_accumulator, past_fixings, fixing_dates[i+1:], payoff, exercise)\n",
    "    engine = MCDiscreteArithmeticAPEngine(bsm_process,  'ld', controlVariate=True, requiredSamples=50000)\n",
    "    option.setPricingEngine(engine)\n",
    "    \n",
    "    option.setPricingEngine(engine)\n",
    "    mc_npvs.append(option.NPV())\n",
    "\n",
    "    price_delta = 0.001 * spot_handle.value()\n",
    "    new_quote1 = SimpleQuote(spot_handle.value() + price_delta)\n",
    "    new_quote2 = SimpleQuote(spot_handle.value() - price_delta)\n",
    "\n",
    "    spot_handle.linkTo(new_quote1)\n",
    "    price_bump_plus = option.NPV()\n",
    "\n",
    "    spot_handle.linkTo(new_quote2)\n",
    "    price_bump_minus = option.NPV()\n",
    "\n",
    "    mc_delta = (price_bump_plus - price_bump_minus) / 2. / price_delta\n",
    "    mc_deltas.append(mc_delta)"
   ]
  },
  {
   "cell_type": "markdown",
   "metadata": {},
   "source": [
    "### 3.3 Graph"
   ]
  },
  {
   "cell_type": "code",
   "execution_count": null,
   "metadata": {},
   "outputs": [],
   "source": [
    "dates_series = [d.to_date() for d in monitor_dates]\n",
    "\n",
    "delta_diff = np.array(fdm_deltas) - np.array(mc_deltas)\n",
    "df = pd.DataFrame({'FDM NPV': np.array(fdm_npvs),\n",
    "                   'MC NPV': np.array(mc_npvs),\n",
    "                   'FDM $\\Delta$': fdm_deltas,\n",
    "                   'MC $\\Delta$': mc_deltas},\n",
    "                  index=dates_series)"
   ]
  },
  {
   "cell_type": "code",
   "execution_count": null,
   "metadata": {},
   "outputs": [],
   "source": [
    "df.plot(figsize=(14, 7), secondary_y=['FDM NPV','MC NPV'], title='RU1801 Asian Option NPV & $\\Delta$: 2017-09-01 ~ 2017-11-30')"
   ]
  },
  {
   "cell_type": "code",
   "execution_count": null,
   "metadata": {
    "collapsed": true
   },
   "outputs": [],
   "source": []
  }
 ],
 "metadata": {
  "kernelspec": {
   "display_name": "Python 3",
   "language": "python",
   "name": "python3"
  },
  "language_info": {
   "codemirror_mode": {
    "name": "ipython",
    "version": 3
   },
   "file_extension": ".py",
   "mimetype": "text/x-python",
   "name": "python",
   "nbconvert_exporter": "python",
   "pygments_lexer": "ipython3",
   "version": "3.6.3"
  }
 },
 "nbformat": 4,
 "nbformat_minor": 2
}
