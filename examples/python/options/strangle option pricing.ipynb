{
 "cells": [
  {
   "cell_type": "code",
   "execution_count": null,
   "metadata": {},
   "outputs": [],
   "source": [
    "%matplotlib inline\n",
    "import numpy as np\n",
    "import pandas as pd\n",
    "pd.set_option('precision', 2)\n",
    "from QuantLib import *"
   ]
  },
  {
   "cell_type": "markdown",
   "metadata": {},
   "source": [
    "## Parameter\n",
    "------------"
   ]
  },
  {
   "cell_type": "code",
   "execution_count": null,
   "metadata": {},
   "outputs": [],
   "source": [
    "maturity_date = Date(31, 1, 2018)\n",
    "start_date = Date(1, 1, 2018)\n",
    "\n",
    "strangle_width = 400.\n",
    "lower_protect_area = 800.\n",
    "upper_protect_area = 600.\n",
    "\n",
    "spot_price = 14400.\n",
    "lower_strike = 14000.\n",
    "lower_bound = lower_strike - lower_protect_area\n",
    "upper_strike = lower_strike + strangle_width\n",
    "upper_bound = upper_strike + upper_protect_area\n",
    "\n",
    "volatility = 0.30\n",
    "risk_free_rate = 0.\n",
    "dividend_rate = 0.\n",
    "day_count = Actual365Fixed()\n",
    "calendar = China(China.SSE)"
   ]
  },
  {
   "cell_type": "markdown",
   "metadata": {},
   "source": [
    "## Market Data\n",
    "-------------"
   ]
  },
  {
   "cell_type": "code",
   "execution_count": null,
   "metadata": {},
   "outputs": [],
   "source": [
    "calculation_date = start_date\n",
    "Settings.instance().evaluationDate = calculation_date\n",
    "\n",
    "spot_handle = RelinkableQuoteHandle(SimpleQuote(spot_price))\n",
    "vol_handle =  RelinkableQuoteHandle(SimpleQuote(volatility))\n",
    "\n",
    "flat_ts = YieldTermStructureHandle(FlatForward(calculation_date, risk_free_rate, day_count))\n",
    "dividend_yield = YieldTermStructureHandle(FlatForward(calculation_date, dividend_rate, day_count))\n",
    "flat_vol_ts = BlackVolTermStructureHandle(BlackConstantVol(calculation_date, calendar, vol_handle, day_count))\n",
    "\n",
    "bsm_process = BlackScholesMertonProcess(spot_handle, dividend_yield, flat_ts, flat_vol_ts)"
   ]
  },
  {
   "cell_type": "code",
   "execution_count": null,
   "metadata": {},
   "outputs": [],
   "source": [
    "put_payoff1 = PlainVanillaPayoff(Option.Put, lower_strike)\n",
    "put_payoff2 = PlainVanillaPayoff(Option.Put, lower_bound)\n",
    "call_payoff1 = PlainVanillaPayoff(Option.Call, upper_strike)\n",
    "call_payoff2 = PlainVanillaPayoff(Option.Call, upper_bound)"
   ]
  },
  {
   "cell_type": "code",
   "execution_count": null,
   "metadata": {},
   "outputs": [],
   "source": [
    "exercise = EuropeanExercise(maturity_date)\n",
    "put_option1 = VanillaOption(put_payoff1, exercise)\n",
    "put_option2 = VanillaOption(put_payoff2, exercise)\n",
    "call_option1 = VanillaOption(call_payoff1, exercise)\n",
    "call_option2 = VanillaOption(call_payoff2, exercise)"
   ]
  },
  {
   "cell_type": "code",
   "execution_count": null,
   "metadata": {},
   "outputs": [],
   "source": [
    "%%time\n",
    "engine = AnalyticEuropeanEngine(bsm_process)\n",
    "put_option1.setPricingEngine(engine)\n",
    "put_option2.setPricingEngine(engine)\n",
    "call_option1.setPricingEngine(engine)\n",
    "call_option2.setPricingEngine(engine)\n",
    "\n",
    "bsm_price = put_option1.NPV() - put_option2.NPV() + call_option1.NPV() - call_option2.NPV()\n",
    "print(\"BSM european theoreticl price is {0:.4f}\".format(bsm_price))"
   ]
  },
  {
   "cell_type": "markdown",
   "metadata": {},
   "source": [
    "## Scenario Analysis\n",
    "----------------"
   ]
  },
  {
   "cell_type": "code",
   "execution_count": null,
   "metadata": {},
   "outputs": [],
   "source": [
    "%%time\n",
    "spot_scenarios = [13500, 14000, 14500, 15000]\n",
    "vol_scenarios = [0.20, 0.30, 0.40, 0.5]\n",
    "\n",
    "price_table = np.zeros((len(spot_scenarios), len(vol_scenarios)))\n",
    "\n",
    "for i, spot in enumerate(spot_scenarios):\n",
    "    for j, vol in enumerate(vol_scenarios):\n",
    "        spot_handle.linkTo(SimpleQuote(spot))\n",
    "        vol_handle.linkTo(SimpleQuote(vol))\n",
    "        \n",
    "        bsm_price = put_option1.NPV() - put_option2.NPV() + call_option1.NPV() - call_option2.NPV()\n",
    "        price_table[i, j] = bsm_price"
   ]
  },
  {
   "cell_type": "code",
   "execution_count": null,
   "metadata": {},
   "outputs": [],
   "source": [
    "df = pd.DataFrame(price_table, index=spot_scenarios, columns=['vol - {0:=}%'.format(v*100) for v in vol_scenarios])\n",
    "df.index.name = 'spot'"
   ]
  },
  {
   "cell_type": "code",
   "execution_count": null,
   "metadata": {},
   "outputs": [],
   "source": [
    "print(\"向下保护区间：{0} ~ {1}\".format(lower_bound, lower_strike))\n",
    "print(\"向上保护区间：{0} ~ {1}\".format(upper_strike, upper_bound))\n",
    "df"
   ]
  },
  {
   "cell_type": "code",
   "execution_count": null,
   "metadata": {},
   "outputs": [],
   "source": []
  },
  {
   "cell_type": "code",
   "execution_count": null,
   "metadata": {},
   "outputs": [],
   "source": []
  }
 ],
 "metadata": {
  "kernelspec": {
   "display_name": "Python 3",
   "language": "python",
   "name": "python3"
  },
  "language_info": {
   "codemirror_mode": {
    "name": "ipython",
    "version": 3
   },
   "file_extension": ".py",
   "mimetype": "text/x-python",
   "name": "python",
   "nbconvert_exporter": "python",
   "pygments_lexer": "ipython3",
   "version": "3.6.3"
  }
 },
 "nbformat": 4,
 "nbformat_minor": 2
}
