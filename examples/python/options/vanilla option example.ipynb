{
 "cells": [
  {
   "cell_type": "code",
   "execution_count": null,
   "metadata": {
    "collapsed": true
   },
   "outputs": [],
   "source": [
    "from math import exp\n",
    "from math import sqrt\n",
    "from QuantLib import *"
   ]
  },
  {
   "cell_type": "markdown",
   "metadata": {},
   "source": [
    "# 0. Parameters\n",
    "---------------"
   ]
  },
  {
   "cell_type": "code",
   "execution_count": null,
   "metadata": {
    "collapsed": true
   },
   "outputs": [],
   "source": [
    "maturity_date = Date(15, 1, 2016)\n",
    "spot_price = 0.98\n",
    "strike_price = 1.\n",
    "volatility = 0.20\n",
    "dividend_rate = 0.05\n",
    "option_type = Option.Call\n",
    "\n",
    "risk_free_rate = 0.02\n",
    "day_count = Actual365Fixed()\n",
    "calendar = NullCalendar()\n",
    "\n",
    "calculation_date = Date(8, 5, 2015)\n",
    "Settings.instance().evaluationDate = calculation_date"
   ]
  },
  {
   "cell_type": "markdown",
   "metadata": {},
   "source": [
    "# 1. European Option\n",
    "---------------------"
   ]
  },
  {
   "cell_type": "markdown",
   "metadata": {},
   "source": [
    "## 1.1 Option Construction"
   ]
  },
  {
   "cell_type": "code",
   "execution_count": null,
   "metadata": {
    "collapsed": true
   },
   "outputs": [],
   "source": [
    "payoff = PlainVanillaPayoff(option_type, strike_price)\n",
    "exercise = EuropeanExercise(maturity_date)\n",
    "european_option = VanillaOption(payoff, exercise)"
   ]
  },
  {
   "cell_type": "code",
   "execution_count": null,
   "metadata": {
    "collapsed": true
   },
   "outputs": [],
   "source": [
    "spot_handle = QuoteHandle(SimpleQuote(spot_price))\n",
    "flat_ts = YieldTermStructureHandle(FlatForward(calculation_date, risk_free_rate, day_count))\n",
    "dividend_yield = YieldTermStructureHandle(FlatForward(calculation_date, dividend_rate, day_count))\n",
    "flat_vol_ts = BlackVolTermStructureHandle(BlackConstantVol(calculation_date, calendar, volatility, day_count))\n",
    "\n",
    "bsm_process = BlackScholesMertonProcess(spot_handle, dividend_yield, flat_ts, flat_vol_ts)"
   ]
  },
  {
   "cell_type": "markdown",
   "metadata": {},
   "source": [
    "## 1.2 Evaluation (using vanilla option engine)"
   ]
  },
  {
   "cell_type": "code",
   "execution_count": null,
   "metadata": {},
   "outputs": [],
   "source": [
    "%%time\n",
    "european_option.setPricingEngine(AnalyticEuropeanEngine(bsm_process))\n",
    "bsm_price = european_option.NPV()\n",
    "print(\"BSM european theoreticl price is {0:.4f}\".format(bsm_price))"
   ]
  },
  {
   "cell_type": "markdown",
   "metadata": {},
   "source": [
    "## 1.3 Evaluation (using fast path Black Scholes formula)"
   ]
  },
  {
   "cell_type": "code",
   "execution_count": null,
   "metadata": {
    "collapsed": true
   },
   "outputs": [],
   "source": [
    "ttm = day_count.yearFraction(calculation_date, maturity_date)\n",
    "forward_price = spot_price * exp((risk_free_rate - dividend_rate) * ttm)\n",
    "std_dev = volatility * sqrt(ttm)\n",
    "discount = exp(-risk_free_rate * ttm)"
   ]
  },
  {
   "cell_type": "code",
   "execution_count": null,
   "metadata": {},
   "outputs": [],
   "source": [
    "%%time\n",
    "bs_price = blackFormula(option_type, strike_price, forward_price, std_dev, discount)\n",
    "print(\"Black - Scholes formula theoreticl price is {0:.4f}\".format(bs_price))"
   ]
  },
  {
   "cell_type": "markdown",
   "metadata": {},
   "source": [
    "# 2. American Option\n",
    "----------------"
   ]
  },
  {
   "cell_type": "markdown",
   "metadata": {},
   "source": [
    "## 2.1 Option Construction\n",
    "------------------"
   ]
  },
  {
   "cell_type": "code",
   "execution_count": null,
   "metadata": {
    "collapsed": true
   },
   "outputs": [],
   "source": [
    "exercise = AmericanExercise(calculation_date, maturity_date)\n",
    "american_option = VanillaOption(payoff, exercise)"
   ]
  },
  {
   "cell_type": "markdown",
   "metadata": {},
   "source": [
    "## 2.2 Evaluation (using BaroneAdesi - Whaley method)"
   ]
  },
  {
   "cell_type": "code",
   "execution_count": null,
   "metadata": {},
   "outputs": [],
   "source": [
    "%%time\n",
    "american_option.setPricingEngine(BaroneAdesiWhaleyEngine(bsm_process))\n",
    "bw_price = american_option.NPV()\n",
    "print(\"BaroneAdesi - Whaley theoreticl price is {0:.4f}\".format(bw_price))"
   ]
  },
  {
   "cell_type": "markdown",
   "metadata": {},
   "source": [
    "## 2.3 Evaluation (using binomial tree method)"
   ]
  },
  {
   "cell_type": "code",
   "execution_count": null,
   "metadata": {},
   "outputs": [],
   "source": [
    "%%time\n",
    "steps = 100\n",
    "\n",
    "binomial_engine = BinomialVanillaEngine(bsm_process, 'crr', steps)\n",
    "american_option.setPricingEngine(binomial_engine)\n",
    "bt_price = american_option.NPV()\n",
    "print(\"Binomial Tree theoreticl price is {0:.4f}\".format(bt_price))"
   ]
  },
  {
   "cell_type": "code",
   "execution_count": null,
   "metadata": {
    "collapsed": true
   },
   "outputs": [],
   "source": []
  }
 ],
 "metadata": {
  "kernelspec": {
   "display_name": "Python 3",
   "language": "python",
   "name": "python3"
  },
  "language_info": {
   "codemirror_mode": {
    "name": "ipython",
    "version": 3
   },
   "file_extension": ".py",
   "mimetype": "text/x-python",
   "name": "python",
   "nbconvert_exporter": "python",
   "pygments_lexer": "ipython3",
   "version": "3.6.2"
  }
 },
 "nbformat": 4,
 "nbformat_minor": 2
}
