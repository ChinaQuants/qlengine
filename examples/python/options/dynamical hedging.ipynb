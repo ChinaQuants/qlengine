{
 "cells": [
  {
   "cell_type": "code",
   "execution_count": null,
   "metadata": {
    "collapsed": true
   },
   "outputs": [],
   "source": [
    "%matplotlib inline\n",
    "from math import *\n",
    "import numpy as np\n",
    "import pandas as pd\n",
    "from matplotlib import pyplot as plt\n",
    "from QuantLib import *\n",
    "from PyFin.Math.Distributions import CumulativeNormalDistribution\n",
    "\n",
    "plt.style.use('fivethirtyeight')"
   ]
  },
  {
   "cell_type": "markdown",
   "metadata": {},
   "source": [
    "# 1. Functions\n",
    "-------------------"
   ]
  },
  {
   "cell_type": "code",
   "execution_count": null,
   "metadata": {
    "collapsed": true
   },
   "outputs": [],
   "source": [
    "def bs_theoretical_price(payoff, spot, ttm, volatility, rf_rate, finance_rate=None):\n",
    "    \n",
    "    if not finance_rate:\n",
    "        finance_rate = rf_rate\n",
    "    \n",
    "    forward = spot * exp(finance_rate * ttm)\n",
    "    std_dev = volatility * sqrt(ttm)\n",
    "    discount = exp(-rf_rate * ttm)\n",
    "    return blackFormula(payoff.optionType(), payoff.strike(), forward, std_dev, discount)"
   ]
  },
  {
   "cell_type": "code",
   "execution_count": null,
   "metadata": {},
   "outputs": [],
   "source": [
    "_dist = CumulativeNormalDistribution()\n",
    "\n",
    "def _exercise(payoff, spot):\n",
    "    return payoff(spot)\n",
    "\n",
    "_exercise = np.frompyfunc(_exercise, 2, 1)\n",
    "\n",
    "\n",
    "def _create_path(rsg, ln_spot, drift, diffusion, delta_t):\n",
    "    rnd = np.array(rsg.nextSequence().value())\n",
    "    in_c = delta_t * drift + np.sqrt(delta_t) * diffusion * rnd\n",
    "    inc_c_cum = np.cumsum(in_c)\n",
    "    return np.exp(np.concatenate(([ln_spot], ln_spot + inc_c_cum)))\n",
    "\n",
    "\n",
    "def _bs_delta(option_type, finance_rate, volatility, ttm, spot, strike):\n",
    "    money_ness = log(spot / strike)\n",
    "    drift = (finance_rate + 0.5 * (volatility ** 2)) * ttm\n",
    "    d1 = (money_ness + drift) / volatility / sqrt(ttm)\n",
    "    call_delta =  _dist(d1)\n",
    "    \n",
    "    if option_type == Option.Call:\n",
    "        return call_delta\n",
    "    elif option_type == Option.Put:\n",
    "        return call_delta - 1.\n",
    "\n",
    "_bs_delta = np.frompyfunc(_bs_delta, 6, 1)\n",
    "\n",
    "\n",
    "def _hedging_on_path(payoff, ttm, time_grids, spot_path, volatility, inflations, rf_rate, finance_rate, trading_cost):\n",
    "    delta_t = time_grids[0] - time_grids[1]\n",
    "    deltas = _bs_delta(payoff.optionType(), finance_rate, volatility, time_grids, spot_path[:-1], payoff.strike())\n",
    "    borrows = spot_path[:-1] * deltas\n",
    "    finance_cost = borrows * finance_rate * delta_t\n",
    "    stock_pnl = deltas * (spot_path[1:] - spot_path[:-1])\n",
    "    trading_slipge = np.abs(np.concatenate(([deltas[0]], np.diff(deltas)))) * spot_path[:-1] * trading_cost\n",
    "    hedging_pnl = ((stock_pnl - finance_cost - trading_slipge) * inflations).sum()\n",
    "    \n",
    "    exercise_pnl = payoff(spot_path[-1])\n",
    "    total_cost = hedging_pnl - exercise_pnl\n",
    "    \n",
    "    return exp(-rf_rate * ttm) * total_cost\n",
    "\n",
    "\n",
    "class HedgeAnalysor(object):\n",
    "    \n",
    "    def __init__(self,\n",
    "                 payoff,\n",
    "                 trading_cost=0.):\n",
    "        self.payoff = payoff\n",
    "        self.trading_cost = trading_cost\n",
    "    \n",
    "    @staticmethod\n",
    "    def _prepare_parameters(rf_rate, finance_rate, underlying_risk_return):\n",
    "        if finance_rate is None:\n",
    "            finance_rate = rf_rate\n",
    "        \n",
    "        if underlying_risk_return is None:\n",
    "            underlying_risk_return = rf_rate\n",
    "        \n",
    "        return finance_rate, underlying_risk_return\n",
    "\n",
    "    def exercise(self, spots):\n",
    "        return _exercise(self.payoff, spots)\n",
    "    \n",
    "    def _hedge_path(self, rsg, ttm, time_grids, ln_spot, volatility, drift, diffusion, delta_t, inflations, rf_rate, finance_rate):\n",
    "        spot_path = _create_path(rsg, ln_spot, drift, diffusion, delta_t)\n",
    "        return _hedging_on_path(self.payoff, ttm, time_grids, spot_path, volatility, inflations, rf_rate, finance_rate, self.trading_cost)\n",
    "        \n",
    "    \n",
    "    def hedge_cost(self,\n",
    "                   rf_rate,\n",
    "                   volatility,\n",
    "                   realized_vol,\n",
    "                   ttm,\n",
    "                   finance_rate=None,\n",
    "                   underlying_risk_return=None,\n",
    "                   spot=1.,\n",
    "                   time_steps=50,\n",
    "                   simulations=100,\n",
    "                   seed=20):\n",
    "        rng = MersenneTwisterUniformRng(seed)\n",
    "        rsg = MersenneTwisterUniformRsg(dimensionality=time_steps,\n",
    "                                        rng=rng)\n",
    "        rsg = InvCumulativeMersenneTwisterGaussianRsg(rsg)\n",
    "        \n",
    "        finance_rate, underlying_risk_return = self._prepare_parameters(rf_rate,\n",
    "                                                                        finance_rate,\n",
    "                                                                        underlying_risk_return)\n",
    "        print(\"risk free: {0:.02f}%\".format(rf_rate*100))\n",
    "        print('finance rate: {0:.02f}%'.format(finance_rate*100))\n",
    "        print('underlying risk return: {0:.02f}%'.format(underlying_risk_return*100))\n",
    "        print('implied vol: {0:.02f}%'.format(volatility))\n",
    "        print('realized vol: {0:.02f}%'.format(realized_vol))\n",
    "        print('number of simulations: {0}'.format(simulations))\n",
    "        print('time to maturity: {0} yrs.'.format(ttm))\n",
    "        print('time steps: {0}'.format(time_steps))\n",
    "        print('trading cost: {0:0.4f}%'.format(self.trading_cost*100))\n",
    "        print('payoff: type={0}, k={1}'.format(self.payoff.optionType(), self.payoff.strike()))\n",
    "        \n",
    "        ln_spot = log(spot)\n",
    "        delta_t = ttm / time_steps\n",
    "\n",
    "        drift = underlying_risk_return - 0.5 * (realized_vol ** 2)\n",
    "        diffusion = realized_vol\n",
    "        time_grids = np.linspace(ttm, 0, num=time_steps, endpoint=False)\n",
    "        inflations = np.exp(finance_rate * (time_grids - delta_t))\n",
    "        \n",
    "        hedging_cost_batch = np.zeros(simulations)\n",
    "        \n",
    "        for i in range(simulations):\n",
    "            hedging_cost = self._hedge_path(rsg,\n",
    "                                            ttm,\n",
    "                                            time_grids,\n",
    "                                            ln_spot,\n",
    "                                            volatility,\n",
    "                                            drift,\n",
    "                                            diffusion,\n",
    "                                            delta_t,\n",
    "                                            inflations,\n",
    "                                            rf_rate,\n",
    "                                            finance_rate)\n",
    "            hedging_cost_batch[i] = hedging_cost\n",
    "        \n",
    "        return -hedging_cost_batch"
   ]
  },
  {
   "cell_type": "code",
   "execution_count": null,
   "metadata": {},
   "outputs": [],
   "source": [
    "rf_rate = 0.04\n",
    "finance_rate = 0.06\n",
    "underlying_risk_return = -0.15\n",
    "strike = 1.\n",
    "volatility = 0.30\n",
    "realized_vol = 0.30\n",
    "ttm = 0.25\n",
    "spot = 1.\n",
    "trading_cost = 0.0\n",
    "simulations = 50000\n",
    "time_steps = int(ttm * 250)\n",
    "\n",
    "payoff = PlainVanillaPayoff(Option.Call, strike)\n",
    "hf = HedgeAnalysor(payoff, trading_cost)"
   ]
  },
  {
   "cell_type": "code",
   "execution_count": null,
   "metadata": {},
   "outputs": [],
   "source": [
    "%%time\n",
    "\n",
    "res = hf.hedge_cost(rf_rate=rf_rate,\n",
    "                    volatility=volatility,\n",
    "                    realized_vol=realized_vol,\n",
    "                    ttm=ttm,\n",
    "                    spot=spot,\n",
    "                    finance_rate=finance_rate,\n",
    "                    underlying_risk_return=underlying_risk_return,\n",
    "                    simulations=simulations,\n",
    "                    time_steps=time_steps)\n",
    "bs_price = bs_theoretical_price(payoff, spot, ttm, volatility, rf_rate, finance_rate)"
   ]
  },
  {
   "cell_type": "code",
   "execution_count": null,
   "metadata": {},
   "outputs": [],
   "source": [
    "fig, axes = plt.subplots(1, 1, figsize=(12, 6), sharex=True)\n",
    "axes = [axes]\n",
    "\n",
    "for i, ax in enumerate(axes):\n",
    "    ax.hist(res, bins=50)\n",
    "    ax.axvline(x=bs_price, color='red', linestyle='dashed', label='Theoretical: {0:.02f}%'.format(bs_price*100))\n",
    "    ax.axvline(x=res.mean(), color='green', linestyle='dashed', label='Hedging Mean')\n",
    "    ax.axvline(x=np.percentile(res, 1), color='yellow', linestyle='dashed', label='Hedging per. 1%')\n",
    "    ax.axvline(x=np.percentile(res, 5), color='black', linestyle='dashed', label='Hedging per. 5%')\n",
    "    ax.axvline(x=np.percentile(res, 95), color='black', linestyle='dashed', label='Hedging per. 95%')\n",
    "    ax.axvline(x=np.percentile(res, 99), color='yellow', linestyle='dashed', label='Hedging per. 99%')\n",
    "    ax.set_title(\"Hedging v.s. Theoretical (tc = {0}%, r_vol = {1:0.2f}%, k={2})\".format(trading_cost*100,\n",
    "                                                                                                    realized_vol*100,\n",
    "                                                                                                strike))\n",
    "    ax.legend()"
   ]
  },
  {
   "cell_type": "code",
   "execution_count": null,
   "metadata": {},
   "outputs": [],
   "source": [
    "# produce the table\n",
    "index = ['理论', '对冲（平均）', '对冲（分位数 1%）', '对冲（分位数 5%）', '对冲（分位数 95%）', '对冲（分位数 99%）']\n",
    "values = np.array([bs_price, res.mean(), np.percentile(res, 1), np.percentile(res, 5), np.percentile(res, 95), np.percentile(res, 99)])\n",
    "rel_values = values / values[0] - 1.\n",
    "df = pd.DataFrame(data={'成本': values, '相对': rel_values}, index=index)\n",
    "df"
   ]
  },
  {
   "cell_type": "markdown",
   "metadata": {},
   "source": [
    "# 2. Base Parameters\n",
    "----------------------"
   ]
  },
  {
   "cell_type": "code",
   "execution_count": null,
   "metadata": {
    "collapsed": true
   },
   "outputs": [],
   "source": [
    "rf_rate = rf_rate\n",
    "finance_rate = finance_rate\n",
    "underlying_risk_return = underlying_risk_return\n",
    "strike = 1.\n",
    "volatility = 0.30\n",
    "realized_vol = 0.30\n",
    "ttm = 0.25\n",
    "spot = 1.\n",
    "trading_cost = 0.0015\n",
    "simulations = 50000\n",
    "time_steps = int(ttm * 250)\n",
    "\n",
    "payoff = PlainVanillaPayoff(Option.Call, strike)\n",
    "hf = HedgeAnalysor(payoff, trading_cost=trading_cost)"
   ]
  },
  {
   "cell_type": "markdown",
   "metadata": {},
   "source": [
    "# 3. Scenario Analysis\n",
    "---------------"
   ]
  },
  {
   "cell_type": "markdown",
   "metadata": {},
   "source": [
    "## 2.1 Strike Scenarios\n",
    "-------------"
   ]
  },
  {
   "cell_type": "code",
   "execution_count": null,
   "metadata": {
    "collapsed": true
   },
   "outputs": [],
   "source": [
    "strike_scenarios =[0.9, 1.0, 1.1]"
   ]
  },
  {
   "cell_type": "code",
   "execution_count": null,
   "metadata": {},
   "outputs": [],
   "source": [
    "simulations_res = []\n",
    "bs_prices_res = []\n",
    "\n",
    "for i, this_strike in enumerate(strike_scenarios):\n",
    "    print(\"\\nScenarios {0} ......\".format(i+1))\n",
    "    this_payoff = PlainVanillaPayoff(Option.Call, this_strike)\n",
    "    this_bs_price = bs_theoretical_price(this_payoff, spot, ttm, volatility, rf_rate, finance_rate)\n",
    "    hf = HedgeAnalysor(this_payoff, trading_cost)\n",
    "    path_res = hf.hedge_cost(rf_rate=rf_rate,\n",
    "                             volatility=volatility,\n",
    "                             realized_vol=realized_vol,\n",
    "                             time_steps=time_steps,\n",
    "                             ttm=ttm,\n",
    "                             finance_rate=finance_rate,\n",
    "                             underlying_risk_return=underlying_risk_return,\n",
    "                             spot=spot,\n",
    "                             simulations=simulations)\n",
    "    \n",
    "    simulations_res.append(path_res)\n",
    "    bs_prices_res.append(this_bs_price)"
   ]
  },
  {
   "cell_type": "code",
   "execution_count": null,
   "metadata": {},
   "outputs": [],
   "source": [
    "fig, axes = plt.subplots(len(strike_scenarios), 1, figsize=(12, 6 * len(strike_scenarios)), sharex=True)\n",
    "\n",
    "if not hasattr(axes, '__iter__'):\n",
    "    axes = [axes]\n",
    "\n",
    "for i, ax in enumerate(axes):\n",
    "    res = simulations_res[i]\n",
    "    ax.hist(res, bins=50)\n",
    "    ax.axvline(x=bs_prices_res[i], color='red', linestyle='dashed', label='Theoretical: {0:.02f}%'.format(bs_prices_res[i]))\n",
    "    ax.axvline(x=res.mean(), color='green', linestyle='dashed', label='Hedging Mean')\n",
    "    ax.axvline(x=np.percentile(res, 1), color='yellow', linestyle='dashed', label='Hedging per. 1%')\n",
    "    ax.axvline(x=np.percentile(res, 5), color='black', linestyle='dashed', label='Hedging per. 5%')\n",
    "    ax.axvline(x=np.percentile(res, 95), color='black', linestyle='dashed', label='Hedging per. 95%')\n",
    "    ax.axvline(x=np.percentile(res, 99), color='yellow', linestyle='dashed', label='Hedging per. 99%')\n",
    "    ax.set_title(\"Hedging v.s. Theoretical (tc = {0:.2f}%, r_vol = {1:0.2f}%, k={2})\".format(trading_cost*100,\n",
    "                                                                                                    realized_vol*100,\n",
    "                                                                                                       strike_scenarios[i]))\n",
    "    ax.legend()"
   ]
  },
  {
   "cell_type": "code",
   "execution_count": null,
   "metadata": {},
   "outputs": [],
   "source": [
    "# produce the table\n",
    "index = ['理论', '对冲（平均）', '对冲（分位数 1%）', '对冲（分位数 5%）', '对冲（分位数 95%）', '对冲（分位数 99%）']\n",
    "col_names = ['{0:.0f}%'.format(t*100) for t in strike_scenarios]\n",
    "\n",
    "values = np.zeros((len(index), len(col_names)))\n",
    "for j, res in enumerate(simulations_res):\n",
    "    this_values = np.array([bs_prices_res[j], res.mean(), np.percentile(res, 1), np.percentile(res, 5), np.percentile(res, 95), np.percentile(res, 99)])\n",
    "    values[:, j] = this_values\n",
    "    \n",
    "df = pd.DataFrame(data=values, columns=col_names, index=index)\n",
    "df"
   ]
  },
  {
   "cell_type": "markdown",
   "metadata": {},
   "source": [
    "## 2.2 Trading Cost Scenarios\n",
    "---"
   ]
  },
  {
   "cell_type": "code",
   "execution_count": null,
   "metadata": {
    "collapsed": true
   },
   "outputs": [],
   "source": [
    "trading_cost_scenarios =[0.0010, 0.0015, 0.0020]"
   ]
  },
  {
   "cell_type": "code",
   "execution_count": null,
   "metadata": {},
   "outputs": [],
   "source": [
    "simulations_res = []\n",
    "bs_price = bs_theoretical_price(payoff, spot, ttm, volatility, rf_rate, finance_rate)\n",
    "\n",
    "for i, this_trading_cost in enumerate(trading_cost_scenarios):\n",
    "    print(\"\\nScenarios {0} ......\".format(i+1))\n",
    "    hf = HedgeAnalysor(payoff, this_trading_cost)\n",
    "    path_res = hf.hedge_cost(rf_rate=rf_rate,\n",
    "                             volatility=volatility,\n",
    "                             realized_vol=realized_vol,\n",
    "                             time_steps=time_steps,\n",
    "                             ttm=ttm,\n",
    "                             finance_rate=finance_rate,\n",
    "                             underlying_risk_return=underlying_risk_return,\n",
    "                             spot=spot,\n",
    "                             simulations=simulations)\n",
    "    \n",
    "    simulations_res.append(path_res)"
   ]
  },
  {
   "cell_type": "code",
   "execution_count": null,
   "metadata": {},
   "outputs": [],
   "source": [
    "fig, axes = plt.subplots(len(trading_cost_scenarios), 1, figsize=(12, 6 * len(trading_cost_scenarios)), sharex=True)\n",
    "\n",
    "if not hasattr(axes, '__iter__'):\n",
    "    axes = [axes]\n",
    "\n",
    "for i, ax in enumerate(axes):\n",
    "    res = simulations_res[i]\n",
    "    ax.hist(res, bins=50)\n",
    "    ax.axvline(x=bs_price, color='red', linestyle='dashed', label='Theoretical: {0:.02f}%'.format(bs_price*100))\n",
    "    ax.axvline(x=res.mean(), color='green', linestyle='dashed', label='Hedging Mean')\n",
    "    ax.axvline(x=np.percentile(res, 1), color='yellow', linestyle='dashed', label='Hedging per. 1%')\n",
    "    ax.axvline(x=np.percentile(res, 5), color='black', linestyle='dashed', label='Hedging per. 5%')\n",
    "    ax.axvline(x=np.percentile(res, 95), color='black', linestyle='dashed', label='Hedging per. 95%')\n",
    "    ax.axvline(x=np.percentile(res, 99), color='yellow', linestyle='dashed', label='Hedging per. 99%')\n",
    "    ax.set_title(\"Hedging v.s. Theoretical (tc = {0:.2f}%, r_vol = {1:0.2f}%, k={2})\".format(trading_cost_scenarios[i]*100,\n",
    "                                                                                                    realized_vol*100,\n",
    "                                                                                                       strike))\n",
    "    ax.legend()"
   ]
  },
  {
   "cell_type": "code",
   "execution_count": null,
   "metadata": {},
   "outputs": [],
   "source": [
    "# produce the table\n",
    "index = ['理论', '对冲（平均）', '对冲（分位数 1%）', '对冲（分位数 5%）', '对冲（分位数 95%）', '对冲（分位数 99%）']\n",
    "col_names = ['{0:.2f}%'.format(t*100) for t in trading_cost_scenarios]\n",
    "\n",
    "values = np.zeros((len(index), len(col_names)))\n",
    "for j, res in enumerate(simulations_res):\n",
    "    this_values = np.array([bs_price, res.mean(), np.percentile(res, 1), np.percentile(res, 5), np.percentile(res, 95), np.percentile(res, 99)])\n",
    "    values[:, j] = this_values\n",
    "    \n",
    "df = pd.DataFrame(data=values, columns=col_names, index=index)\n",
    "df"
   ]
  },
  {
   "cell_type": "markdown",
   "metadata": {},
   "source": [
    "## 2.3 Volatility Scenario\n",
    "-------------"
   ]
  },
  {
   "cell_type": "code",
   "execution_count": null,
   "metadata": {
    "collapsed": true
   },
   "outputs": [],
   "source": [
    "volatility_scenarios = [0.20, 0.30, 0.40]"
   ]
  },
  {
   "cell_type": "code",
   "execution_count": null,
   "metadata": {},
   "outputs": [],
   "source": [
    "simulations_res = []\n",
    "bs_price = bs_theoretical_price(payoff, spot, ttm, volatility, rf_rate, finance_rate)\n",
    "hf = HedgeAnalysor(payoff, trading_cost)\n",
    "\n",
    "for i, this_volatility in enumerate(volatility_scenarios):\n",
    "    print(\"\\nScenarios {0} ......\".format(i+1))\n",
    "    path_res = hf.hedge_cost(rf_rate=rf_rate,\n",
    "                             volatility=volatility,\n",
    "                             realized_vol=this_volatility,\n",
    "                             time_steps=time_steps,\n",
    "                             ttm=ttm,\n",
    "                             finance_rate=finance_rate,\n",
    "                             underlying_risk_return=underlying_risk_return,\n",
    "                             spot=spot,\n",
    "                             simulations=simulations)\n",
    "    \n",
    "    simulations_res.append(path_res)"
   ]
  },
  {
   "cell_type": "code",
   "execution_count": null,
   "metadata": {},
   "outputs": [],
   "source": [
    "fig, axes = plt.subplots(len(volatility_scenarios), 1, figsize=(12, 6 * len(volatility_scenarios)), sharex=True)\n",
    "\n",
    "if not hasattr(axes, '__iter__'):\n",
    "    axes = [axes]\n",
    "\n",
    "for i, ax in enumerate(axes):\n",
    "    res = simulations_res[i]\n",
    "    ax.hist(res, bins=50)\n",
    "    ax.axvline(x=bs_price, color='red', linestyle='dashed', label='Theoretica: {0:.02f}%'.format(bs_price*100))\n",
    "    ax.axvline(x=res.mean(), color='green', linestyle='dashed', label='Hedging Mean')\n",
    "    ax.axvline(x=np.percentile(res, 1), color='yellow', linestyle='dashed', label='Hedging per. 1%')\n",
    "    ax.axvline(x=np.percentile(res, 5), color='black', linestyle='dashed', label='Hedging per. 5%')\n",
    "    ax.axvline(x=np.percentile(res, 95), color='black', linestyle='dashed', label='Hedging per. 95%')\n",
    "    ax.axvline(x=np.percentile(res, 99), color='yellow', linestyle='dashed', label='Hedging per. 99%')\n",
    "    ax.set_title(\"Hedging v.s. Theoretical (tc = {0:.2f}%, r_vol = {1:0.2f}%, k={2})\".format(trading_cost*100,\n",
    "                                                                                                    volatility_scenarios[i]*100,\n",
    "                                                                                                       strike))\n",
    "    ax.legend()"
   ]
  },
  {
   "cell_type": "code",
   "execution_count": null,
   "metadata": {},
   "outputs": [],
   "source": [
    "# produce the table\n",
    "index = ['理论', '对冲（平均）', '对冲（分位数 1%）', '对冲（分位数 5%）', '对冲（分位数 95%）', '对冲（分位数 99%）']\n",
    "col_names = ['{0:.2f}%'.format(v*100) for v in volatility_scenarios]\n",
    "\n",
    "values = np.zeros((len(index), len(col_names)))\n",
    "for j, res in enumerate(simulations_res):\n",
    "    this_values = np.array([bs_price, res.mean(), np.percentile(res, 1), np.percentile(res, 5), np.percentile(res, 95), np.percentile(res, 99)])\n",
    "    values[:, j] = this_values\n",
    "    \n",
    "df = pd.DataFrame(data=values, columns=col_names, index=index)\n",
    "df"
   ]
  },
  {
   "cell_type": "code",
   "execution_count": null,
   "metadata": {
    "collapsed": true
   },
   "outputs": [],
   "source": []
  },
  {
   "cell_type": "code",
   "execution_count": null,
   "metadata": {
    "collapsed": true
   },
   "outputs": [],
   "source": []
  }
 ],
 "metadata": {
  "kernelspec": {
   "display_name": "Python 3",
   "language": "python",
   "name": "python3"
  },
  "language_info": {
   "codemirror_mode": {
    "name": "ipython",
    "version": 3
   },
   "file_extension": ".py",
   "mimetype": "text/x-python",
   "name": "python",
   "nbconvert_exporter": "python",
   "pygments_lexer": "ipython3",
   "version": "3.6.3"
  }
 },
 "nbformat": 4,
 "nbformat_minor": 2
}
